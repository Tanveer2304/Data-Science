{
 "cells": [
  {
   "cell_type": "markdown",
   "id": "aa4972a2",
   "metadata": {},
   "source": [
    "# Exercise 1: Prime Numbers"
   ]
  },
  {
   "cell_type": "code",
   "execution_count": 5,
   "id": "d28649bc",
   "metadata": {},
   "outputs": [
    {
     "name": "stdout",
     "output_type": "stream",
     "text": [
      "Enter a number to check if it's prime: 13\n",
      "13 is a prime number.\n"
     ]
    }
   ],
   "source": [
    "def is_prime(number):\n",
    "    if number <= 1:\n",
    "        return False\n",
    "    elif number <= 3:\n",
    "        return True\n",
    "    elif number % 2 == 0 or number % 3 == 0:\n",
    "        return False\n",
    "    i = 5\n",
    "    while i * i <= number:\n",
    "        if number % i == 0 or number % (i + 2) == 0:\n",
    "            return False\n",
    "        i += 6\n",
    "    return True\n",
    "\n",
    "num = int(input(\"Enter a number to check if it's prime: \"))\n",
    "if is_prime(num):\n",
    "    print(f\"{num} is a prime number.\")\n",
    "else:\n",
    "    print(f\"{num} is not a prime number.\")\n"
   ]
  },
  {
   "cell_type": "markdown",
   "id": "fd79380d",
   "metadata": {},
   "source": [
    "# Exercise 2: Product of Random Numbers"
   ]
  },
  {
   "cell_type": "code",
   "execution_count": 40,
   "id": "540a719a",
   "metadata": {},
   "outputs": [
    {
     "name": "stdout",
     "output_type": "stream",
     "text": [
      "What is the product of 4 and 4? 30\n",
      "Sorry, the correct answer is 16.\n"
     ]
    }
   ],
   "source": [
    "import random\n",
    "\n",
    "num1 = random.randint(1, 10)\n",
    "num2 = random.randint(1, 10)\n",
    "\n",
    "\n",
    "num1, num2 = num1, num2\n",
    "product = num1 * num2\n",
    "user_answer = int(input(f\"What is the product of {num1} and {num2}? \"))\n",
    "    \n",
    "if user_answer == product:\n",
    "    print(\"Congratulations! Your answer is correct.\")\n",
    "else:\n",
    "    print(f\"Sorry, the correct answer is {product}.\")\n",
    "\n"
   ]
  },
  {
   "cell_type": "markdown",
   "id": "dbb631e8",
   "metadata": {},
   "source": [
    "# Exercise 3: Squares of Even/Odd Numbers"
   ]
  },
  {
   "cell_type": "code",
   "execution_count": 44,
   "id": "a8e730fa",
   "metadata": {},
   "outputs": [
    {
     "name": "stdout",
     "output_type": "stream",
     "text": [
      "Squares of even numbers within the range of 100 to 200:\n",
      "1061208\n",
      "1157625\n",
      "1259712\n",
      "1367631\n",
      "1481544\n",
      "1601613\n",
      "1728000\n",
      "1860867\n",
      "2000376\n",
      "2146689\n",
      "2299968\n",
      "2460375\n",
      "2628072\n",
      "2803221\n",
      "2985984\n",
      "3176523\n",
      "3375000\n",
      "3581577\n",
      "3796416\n",
      "4019679\n",
      "4251528\n",
      "4492125\n",
      "4741632\n",
      "5000211\n",
      "5268024\n",
      "5545233\n",
      "5832000\n",
      "6128487\n",
      "6434856\n",
      "6751269\n",
      "7077888\n",
      "7414875\n",
      "7762392\n"
     ]
    }
   ],
   "source": [
    "def print_even_squares():\n",
    "    print(\"Squares of even numbers within the range of 100 to 200:\")\n",
    "    for num in range(100, 201):  \n",
    "        if num  % 2 == 0:  \n",
    "            print(num ** 2)  \n",
    "\n",
    "print_even_squares()\n"
   ]
  },
  {
   "cell_type": "markdown",
   "id": "c84f9fb4",
   "metadata": {},
   "source": [
    "# Exercise 4: Word counter"
   ]
  },
  {
   "cell_type": "code",
   "execution_count": 45,
   "id": "2c31f782",
   "metadata": {},
   "outputs": [
    {
     "name": "stdout",
     "output_type": "stream",
     "text": [
      "'This': 2\n",
      "'is': 1\n",
      "'a': 1\n",
      "'sample': 1\n",
      "'text': 2\n",
      "'will': 1\n",
      "'be': 1\n",
      "'used': 1\n",
      "'to': 1\n",
      "'demonstrate': 1\n",
      "'the': 1\n",
      "'word': 1\n",
      "'counter': 1\n"
     ]
    }
   ],
   "source": [
    "def count_words(text):\n",
    "    \n",
    "    words = text.split()\n",
    "    \n",
    "    word_counts = {}\n",
    "    \n",
    "    for word in words:\n",
    "        word = word.strip(\".,\")  \n",
    "        word_counts[word] = word_counts.get(word, 0) + 1\n",
    "    \n",
    "    \n",
    "    for word, count in word_counts.items():\n",
    "        print(f\"'{word}': {count}\")\n",
    "\n",
    "\n",
    "input_text = \"This is a sample text. This text will be used to demonstrate the word counter.\"\n",
    "\n",
    "count_words(input_text)\n"
   ]
  },
  {
   "cell_type": "markdown",
   "id": "fc454f39",
   "metadata": {},
   "source": [
    "# Exercise 5: Check for Palindrome"
   ]
  },
  {
   "cell_type": "code",
   "execution_count": 48,
   "id": "6043d9e5",
   "metadata": {},
   "outputs": [
    {
     "name": "stdout",
     "output_type": "stream",
     "text": [
      "enter the palindrome\"racecar\"\n",
      "True\n"
     ]
    }
   ],
   "source": [
    "def is_palindrome(s):\n",
    "    \n",
    "    s = ''.join(char.lower() for char in s if char.isalnum())\n",
    "    return s == s[::-1]\n",
    "\n",
    "\n",
    "input_str = input('enter the palindrome')\n",
    "\n",
    "print(is_palindrome(input_str))  \n"
   ]
  },
  {
   "cell_type": "code",
   "execution_count": null,
   "id": "c8277a6d",
   "metadata": {},
   "outputs": [],
   "source": []
  }
 ],
 "metadata": {
  "kernelspec": {
   "display_name": "Python 3 (ipykernel)",
   "language": "python",
   "name": "python3"
  },
  "language_info": {
   "codemirror_mode": {
    "name": "ipython",
    "version": 3
   },
   "file_extension": ".py",
   "mimetype": "text/x-python",
   "name": "python",
   "nbconvert_exporter": "python",
   "pygments_lexer": "ipython3",
   "version": "3.11.5"
  }
 },
 "nbformat": 4,
 "nbformat_minor": 5
}
