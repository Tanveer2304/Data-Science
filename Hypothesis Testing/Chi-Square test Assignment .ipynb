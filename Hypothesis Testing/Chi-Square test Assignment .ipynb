{
 "cells": [
  {
   "cell_type": "code",
   "execution_count": 1,
   "id": "1ff59353",
   "metadata": {},
   "outputs": [],
   "source": [
    "# H0 = There is no significant association between the type of smart home device purchased and customer satisfaction\n",
    "\n",
    "# H1 = There is a significant association between the type of smart home device purchased and the customer satisfaction level\n"
   ]
  },
  {
   "cell_type": "code",
   "execution_count": 2,
   "id": "7d6d3ab7",
   "metadata": {},
   "outputs": [],
   "source": [
    "import numpy as np\n",
    "import scipy.stats as stats\n",
    "from scipy.stats import chi2_contingency"
   ]
  },
  {
   "cell_type": "code",
   "execution_count": 28,
   "id": "d72a70dc",
   "metadata": {},
   "outputs": [
    {
     "name": "stdout",
     "output_type": "stream",
     "text": [
      "Chi Squre statistic: 5.638227513227513\n"
     ]
    }
   ],
   "source": [
    "# Observed frequencies\n",
    "observed = np.array([[50, 70, 120],\n",
    "                     [80, 100, 180],\n",
    "                     [60, 90, 150],\n",
    "                     [30, 50, 80],\n",
    "                     [20, 50, 70]])\n",
    "\n",
    "# expected frequencies\n",
    "expected = np.outer(observed.sum(axis=1) , observed.sum(axis=0)/ observed.sum())\n",
    "\n",
    "chi_squre = np.sum((observed - expected)**2/expected)\n",
    "\n",
    "print(\"Chi Squre statistic:\", chi_squre)"
   ]
  },
  {
   "cell_type": "markdown",
   "id": "f60d04f8",
   "metadata": {},
   "source": [
    "# Determine the Critical Value:"
   ]
  },
  {
   "cell_type": "code",
   "execution_count": 32,
   "id": "5676e28a",
   "metadata": {},
   "outputs": [
    {
     "name": "stdout",
     "output_type": "stream",
     "text": [
      "The degree of freedom is 8\n",
      "as per the Chi squre distribution table  with alpha 0.05 significance level is {15.51} \n"
     ]
    }
   ],
   "source": [
    "#Using the significance level (alpha) of 0.05 and the degrees of freedom (which is the number of categories minus 1)\n",
    "\n",
    "DF = (5-1)*(3-1)\n",
    "\n",
    "print(\"The degree of freedom is\", DF)\n",
    "print(\"as per the Chi squre distribution table  with alpha 0.05 significance level is 15.51\")"
   ]
  },
  {
   "cell_type": "markdown",
   "id": "02c1d325",
   "metadata": {},
   "source": [
    "# Make a Decision:\n",
    "\n"
   ]
  },
  {
   "cell_type": "code",
   "execution_count": null,
   "id": "557063a3",
   "metadata": {},
   "outputs": [],
   "source": [
    "# H0 = There is no significant association between the type of smart home device purchased and customer satisfaction"
   ]
  }
 ],
 "metadata": {
  "kernelspec": {
   "display_name": "Python 3 (ipykernel)",
   "language": "python",
   "name": "python3"
  },
  "language_info": {
   "codemirror_mode": {
    "name": "ipython",
    "version": 3
   },
   "file_extension": ".py",
   "mimetype": "text/x-python",
   "name": "python",
   "nbconvert_exporter": "python",
   "pygments_lexer": "ipython3",
   "version": "3.11.5"
  }
 },
 "nbformat": 4,
 "nbformat_minor": 5
}
