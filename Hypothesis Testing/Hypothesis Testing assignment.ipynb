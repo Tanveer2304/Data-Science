{
 "cells": [
  {
   "cell_type": "markdown",
   "id": "5a26e957-db05-4d75-9e3a-0e1b84e03d70",
   "metadata": {},
   "source": [
    "#The Hypotheses statement:"
   ]
  },
  {
   "cell_type": "code",
   "execution_count": 2,
   "id": "742d2360-be2a-4599-9e66-a0efef2ea3f0",
   "metadata": {},
   "outputs": [],
   "source": [
    "# H0 : The mean weekly operating cost remains as per the theoretical model\n",
    "\n",
    "# H1 : The mean weekly operating cost has increased from the theoretical model"
   ]
  },
  {
   "cell_type": "raw",
   "id": "7e48871f-5786-407a-9898-910666cb86b7",
   "metadata": {},
   "source": [
    "#Calculate the Test Statistic"
   ]
  },
  {
   "cell_type": "code",
   "execution_count": 18,
   "id": "ffd8144d-4d88-4dc9-9711-a5ccac883e1e",
   "metadata": {},
   "outputs": [
    {
     "name": "stdout",
     "output_type": "stream",
     "text": [
      "Requirement already satisfied: numpy in d:\\users\\pc\\anaconda3\\lib\\site-packages (1.26.4)\n",
      "Requirement already satisfied: pandas in d:\\users\\pc\\anaconda3\\lib\\site-packages (2.1.4)\n",
      "Requirement already satisfied: numpy<2,>=1.23.2 in d:\\users\\pc\\anaconda3\\lib\\site-packages (from pandas) (1.26.4)\n",
      "Requirement already satisfied: python-dateutil>=2.8.2 in d:\\users\\pc\\anaconda3\\lib\\site-packages (from pandas) (2.8.2)\n",
      "Requirement already satisfied: pytz>=2020.1 in d:\\users\\pc\\anaconda3\\lib\\site-packages (from pandas) (2023.3.post1)\n",
      "Requirement already satisfied: tzdata>=2022.1 in d:\\users\\pc\\anaconda3\\lib\\site-packages (from pandas) (2023.3)\n",
      "Requirement already satisfied: six>=1.5 in d:\\users\\pc\\anaconda3\\lib\\site-packages (from python-dateutil>=2.8.2->pandas) (1.16.0)\n"
     ]
    }
   ],
   "source": [
    "!pip install numpy\n",
    "!pip install pandas"
   ]
  },
  {
   "cell_type": "code",
   "execution_count": 14,
   "id": "a938f1ee-27b4-4a21-9181-4df3f24a26c7",
   "metadata": {},
   "outputs": [
    {
     "name": "stdout",
     "output_type": "stream",
     "text": [
      "-38.0\n"
     ]
    }
   ],
   "source": [
    "import numpy as np\n",
    "\n",
    "# Given data\n",
    "sample_mean = 3050  \n",
    "theoretical_mean = 1000 + 5 * 600  \n",
    "standard_deviation = 5 * 25  \n",
    "sample_size = 25  \n",
    "\n",
    "# Calculate the test statistic (t)\n",
    "t = (sample_mean - theoretical_mean) / (standard_deviation / np.sqrt(sample_size))\n",
    "print(t)"
   ]
  },
  {
   "cell_type": "code",
   "execution_count": 21,
   "id": "84542ad0-cf8a-45e8-b4c6-b41286cf3e83",
   "metadata": {},
   "outputs": [
    {
     "name": "stdout",
     "output_type": "stream",
     "text": [
      "Reject the null hypothesis.\n",
      "There is sufficient evidence to suggest that the mean weekly operating cost has increased from the theoretical model.\n"
     ]
    }
   ],
   "source": [
    "#Determine the Critical Value and decision making\n",
    "\n",
    "Alpha_level = 0.05\n",
    "critical_value = 1.645\n",
    "\n",
    "#Make a decision\n",
    "if critical_value > t:\n",
    "    print(\"Reject the null hypothesis.\")\n",
    "    print(\"There is sufficient evidence to suggest that the mean weekly operating cost has increased from the theoretical model.\")\n",
    "else:\n",
    "    print(\"Fail to reject the null hypothesis.\")\n",
    "\n"
   ]
  },
  {
   "cell_type": "code",
   "execution_count": null,
   "id": "bc7ac287-108a-47ee-ac71-c839f802e3c9",
   "metadata": {},
   "outputs": [],
   "source": []
  }
 ],
 "metadata": {
  "kernelspec": {
   "display_name": "Python 3 (ipykernel)",
   "language": "python",
   "name": "python3"
  },
  "language_info": {
   "codemirror_mode": {
    "name": "ipython",
    "version": 3
   },
   "file_extension": ".py",
   "mimetype": "text/x-python",
   "name": "python",
   "nbconvert_exporter": "python",
   "pygments_lexer": "ipython3",
   "version": "3.11.7"
  }
 },
 "nbformat": 4,
 "nbformat_minor": 5
}
